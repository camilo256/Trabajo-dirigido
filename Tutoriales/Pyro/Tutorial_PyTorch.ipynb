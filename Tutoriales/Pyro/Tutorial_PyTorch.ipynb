{
 "cells": [
  {
   "cell_type": "markdown",
   "metadata": {},
   "source": [
    "# Tutorial PyTorch 60 min blitz"
   ]
  },
  {
   "cell_type": "code",
   "execution_count": 7,
   "metadata": {},
   "outputs": [],
   "source": [
    "from __future__ import print_function\n",
    "import torch"
   ]
  },
  {
   "cell_type": "markdown",
   "metadata": {},
   "source": [
    "# Tensores"
   ]
  },
  {
   "cell_type": "code",
   "execution_count": 8,
   "metadata": {},
   "outputs": [
    {
     "name": "stdout",
     "output_type": "stream",
     "text": [
      "tensor([[0, 0, 0],\n",
      "        [0, 0, 0],\n",
      "        [0, 0, 0],\n",
      "        [0, 0, 0],\n",
      "        [0, 0, 0]])\n"
     ]
    }
   ],
   "source": [
    "# Se inicializa una matriz, notar que al ser inicializada vacía \n",
    "# toma los valores que estaba anteriormente en la memoria\n",
    "\n",
    "x = torch.empty(5, 3)\n",
    "\n",
    "\n",
    "# La matriz puede ser torch.empty, torch.rand o torch.zeros\n",
    "# además se puede agregar el formato del item con dtype\n",
    "\n",
    "x = torch.zeros(5, 3, dtype=torch.long)\n",
    "print(x)"
   ]
  },
  {
   "cell_type": "code",
   "execution_count": 9,
   "metadata": {},
   "outputs": [
    {
     "name": "stdout",
     "output_type": "stream",
     "text": [
      "tensor([5.5000, 3.0000])\n"
     ]
    }
   ],
   "source": [
    "# Los tensores se invocan con:\n",
    "\n",
    "x=torch.tensor([5.5,3])\n",
    "print(x)"
   ]
  },
  {
   "cell_type": "code",
   "execution_count": 10,
   "metadata": {},
   "outputs": [
    {
     "name": "stdout",
     "output_type": "stream",
     "text": [
      "tensor([[1., 1., 1.],\n",
      "        [1., 1., 1.],\n",
      "        [1., 1., 1.],\n",
      "        [1., 1., 1.],\n",
      "        [1., 1., 1.]], dtype=torch.float64)\n"
     ]
    }
   ],
   "source": [
    "# Se pueden generar nuevos tensores a partir de otros anteriores\n",
    "x=x.new_ones(5,3,dtype=torch.double)\n",
    "print(x)"
   ]
  },
  {
   "cell_type": "code",
   "execution_count": 11,
   "metadata": {},
   "outputs": [
    {
     "name": "stdout",
     "output_type": "stream",
     "text": [
      "tensor([[-0.8106,  1.7956, -0.1306],\n",
      "        [ 0.6553, -0.7226,  0.7409],\n",
      "        [-1.6676, -1.9500, -1.5429],\n",
      "        [-0.4483,  1.0060,  0.0851],\n",
      "        [ 1.0117,  1.4217,  1.2489]])\n",
      "torch.Size([5, 3])\n"
     ]
    },
    {
     "data": {
      "text/plain": [
       "(None, None)"
      ]
     },
     "execution_count": 11,
     "metadata": {},
     "output_type": "execute_result"
    }
   ],
   "source": [
    "# También se puede mantener el tamaño del tensor y cambiar sólo los items y su tipo:\n",
    "x=torch.randn_like(x,dtype=torch.float)\n",
    "print(x),print(x.size())  #.size() entrega tamaño del tensor"
   ]
  },
  {
   "cell_type": "code",
   "execution_count": 12,
   "metadata": {},
   "outputs": [
    {
     "name": "stdout",
     "output_type": "stream",
     "text": [
      "tensor([[ 0.1894,  2.7956,  0.8694],\n",
      "        [ 1.6553,  0.2774,  1.7409],\n",
      "        [-0.6676, -0.9500, -0.5429],\n",
      "        [ 0.5517,  2.0060,  1.0851],\n",
      "        [ 2.0117,  2.4217,  2.2489]])\n"
     ]
    }
   ],
   "source": [
    "# 4 formas de sumar\n",
    "\n",
    "    #1 \n",
    "    \n",
    "y=torch.ones(5,3)\n",
    "#print (x+y)\n",
    "\n",
    "    #2\n",
    "    \n",
    "#print(torch.add(x,y))\n",
    "\n",
    "    #3\n",
    "    \n",
    "resultado= torch.empty(5,3)        #la más compleja (pero más útil me imagino)\n",
    "torch.add(x,y,out=resultado)\n",
    "#print(resultado)\n",
    "\n",
    "    #4\n",
    "    \n",
    "y.add_(x)    #suma y modifica tensor inicial\n",
    "print(y)\n",
    "\n",
    "#IMPORTANTE: Las operaciones que modifican el tensor vienen seguidas de un guión bajo:\n",
    "#x.add_(y), x.copy_(y), x.t_(), todas estas cambian a x"
   ]
  },
  {
   "cell_type": "code",
   "execution_count": 13,
   "metadata": {},
   "outputs": [
    {
     "name": "stdout",
     "output_type": "stream",
     "text": [
      "tensor([[-0.6676, -0.9500],\n",
      "        [ 0.5517,  2.0060],\n",
      "        [ 2.0117,  2.4217]])\n"
     ]
    }
   ],
   "source": [
    "# Índices funcionan igual a numpy:\n",
    "print(y[2:,:2])"
   ]
  },
  {
   "cell_type": "code",
   "execution_count": 14,
   "metadata": {},
   "outputs": [
    {
     "data": {
      "text/plain": [
       "(tensor([[-2.0383, -0.3793,  1.4084, -1.5298],\n",
       "         [ 0.9316,  0.3574, -1.1856,  0.3816],\n",
       "         [-1.1319, -0.5476,  0.2295,  0.4614],\n",
       "         [ 0.8111, -0.2426,  1.0013,  0.0409]]),\n",
       " tensor([-2.0383, -0.3793,  1.4084, -1.5298,  0.9316,  0.3574, -1.1856,  0.3816,\n",
       "         -1.1319, -0.5476,  0.2295,  0.4614,  0.8111, -0.2426,  1.0013,  0.0409]),\n",
       " tensor([[-2.0383, -0.3793,  1.4084, -1.5298,  0.9316,  0.3574, -1.1856,  0.3816],\n",
       "         [-1.1319, -0.5476,  0.2295,  0.4614,  0.8111, -0.2426,  1.0013,  0.0409]]))"
      ]
     },
     "execution_count": 14,
     "metadata": {},
     "output_type": "execute_result"
    }
   ],
   "source": [
    "# Cambiar de tamaño o forma\n",
    "\n",
    "x=torch.randn(4,4)\n",
    "y=x.view(16)\n",
    "z=x.view(-1,8) #como siempre el -1 es valor heredado o inferido de acuerdo a las dimensiones (2 en este caso) \n",
    "x,y,z\n",
    "\n",
    "# Los tensores resultantes deben tener la misma \"área\", de lo contrario no funciona la función:\n",
    "#z=x.view(-1,7)"
   ]
  },
  {
   "cell_type": "code",
   "execution_count": 15,
   "metadata": {},
   "outputs": [
    {
     "name": "stdout",
     "output_type": "stream",
     "text": [
      "1.0\n"
     ]
    }
   ],
   "source": [
    "# Para tensores de un sólo elemento se puede usar t.item(). ¿Para qué me sirve eso?\n",
    "x=x.new_ones(1)\n",
    "print(x.item())"
   ]
  },
  {
   "cell_type": "code",
   "execution_count": 16,
   "metadata": {},
   "outputs": [
    {
     "name": "stdout",
     "output_type": "stream",
     "text": [
      "tensor([[1, 2, 3],\n",
      "        [1, 6, 2]])\n",
      "[[1 2 3]\n",
      " [1 6 2]]\n"
     ]
    }
   ],
   "source": [
    "# Conversión a arreglos numpy\n",
    "y=torch.tensor([[1, 2, 3],[1, 6, 2]])\n",
    "print(y)\n",
    "y_np=y.numpy()\n",
    "print(y_np)"
   ]
  },
  {
   "cell_type": "code",
   "execution_count": 17,
   "metadata": {},
   "outputs": [
    {
     "name": "stdout",
     "output_type": "stream",
     "text": [
      "[[0 1 2]\n",
      " [0 5 1]]\n"
     ]
    }
   ],
   "source": [
    "#IMPORTANTE: Los arreglos numpy se mantienen dependientes del valor del tensor original\n",
    "y.add_(-1)\n",
    "print(y_np)"
   ]
  },
  {
   "cell_type": "code",
   "execution_count": 18,
   "metadata": {},
   "outputs": [
    {
     "name": "stdout",
     "output_type": "stream",
     "text": [
      "[-1. -1.]\n",
      "tensor([-1., -1.], dtype=torch.float64)\n"
     ]
    }
   ],
   "source": [
    "# Camino contrario: nparray a tensor\n",
    "import numpy as np\n",
    "a=np.ones(2)\n",
    "b=torch.from_numpy(a)\n",
    "np.add(a,-2, out=a)\n",
    "\n",
    "print(a)\n",
    "print(b)\n",
    "\n",
    "# Aquí de nuevo calquier cambio en los valores de uno afecta los valores del otro automáticamente"
   ]
  },
  {
   "cell_type": "markdown",
   "metadata": {},
   "source": [
    "# AUTOGRAD: Diferenciación automática"
   ]
  },
  {
   "cell_type": "code",
   "execution_count": 19,
   "metadata": {},
   "outputs": [
    {
     "name": "stdout",
     "output_type": "stream",
     "text": [
      "tensor([[1., 1.],\n",
      "        [1., 1.]], requires_grad=True)\n",
      "tensor([[3., 3.],\n",
      "        [3., 3.]], grad_fn=<AddBackward0>)\n",
      "<AddBackward0 object at 0x7efd03672358>\n",
      "tensor(27., grad_fn=<MeanBackward0>)\n"
     ]
    }
   ],
   "source": [
    "# En PyTorch, la clase Tensor posee un atributo llamado .requires_grad. Marcado como True\n",
    "# implica el almacenamiento o tracking de todas las operaciones realizadas sobre el tensor. \n",
    "# De esta forma, al terminar los cómputos se pueden calcular los gradientes automáticamente\n",
    "# utilizando la función .backward(). El gradiente del tensor se guarda en el atributo .grad\n",
    "\n",
    "# Si no se quiere almacenar el gradiente, se puede utilizar la función .detach()\n",
    "# o utilizar (wrap) with torch.no_grad(): en el bloque de códigos\n",
    "\n",
    "# Otro atributo interesante es  .grad_fn, éste referencia la función que creó el tensor \n",
    "# (siempre que no sea el usuario el que lo hizo)\n",
    "\n",
    "# La función backwards deberá tener especificados ciertos argumentos si el tensor no es un escalar\n",
    "\n",
    "x=torch.ones(2, 2, requires_grad=True)\n",
    "print(x)\n",
    "\n",
    "y=x+2\n",
    "\n",
    "print(y)\n",
    "\n",
    "print(y.grad_fn)\n",
    "\n",
    "z=y*y*3\n",
    "out=z.mean()\n",
    "\n",
    "print(out)"
   ]
  },
  {
   "cell_type": "code",
   "execution_count": 20,
   "metadata": {},
   "outputs": [
    {
     "name": "stdout",
     "output_type": "stream",
     "text": [
      "False\n",
      "True\n",
      "<SumBackward0 object at 0x7efd036722b0>\n"
     ]
    }
   ],
   "source": [
    "# Se puede cambiar el valor de requires_grad en medio del código\n",
    "\n",
    "a=torch.randn(2,2)\n",
    "a=((a*3)/(a-1))\n",
    "print(a.requires_grad)\n",
    "\n",
    "a.requires_grad_(True) #con la función .requires_grad_() (False por default)\n",
    "\n",
    "print(a.requires_grad)\n",
    "b=(a*a).sum()\n",
    "print(b.grad_fn)\n"
   ]
  },
  {
   "cell_type": "code",
   "execution_count": 21,
   "metadata": {},
   "outputs": [
    {
     "name": "stdout",
     "output_type": "stream",
     "text": [
      "None\n"
     ]
    }
   ],
   "source": [
    "# Con .backward() podemos obtener los gradientes del tensor:\n",
    "\n",
    "\n",
    "\n",
    "# Recordar que out está definido como el promedio de (x+2) al cuadrado *3\n",
    "# Su derivada será (2/3)*(x+2). Para x=1 el valor será 4.5\n",
    "out=out*out\n",
    "#out.backward(retain_graph=True)\n",
    "print(out.grad)"
   ]
  },
  {
   "cell_type": "code",
   "execution_count": 22,
   "metadata": {},
   "outputs": [
    {
     "name": "stdout",
     "output_type": "stream",
     "text": [
      "tensor([768., 768., 768.], grad_fn=<MulBackward0>)\n",
      "tensor([256.0000, 256.0000,  25.6000])\n"
     ]
    }
   ],
   "source": [
    "p=torch.ones(3,requires_grad=True)\n",
    "q=p+2\n",
    "\n",
    "while q.data.norm()<1000:\n",
    "    q=q*2\n",
    "print(q)\n",
    "\n",
    "# Como q ya no es un escalar es necesario entregar a la función un vector:\n",
    "\n",
    "v=torch.tensor([1,1,0.1],dtype=torch.float) # el vector pondera los valores del gradiente\n",
    "\n",
    "q.backward(v) ####¿Por qué se llama la función backward() a q y después se muestran los gradientes de p?\n",
    "\n",
    "print(p.grad) \n",
    "\n",
    "# El gradiente es 256 porque se toma el valor de q y se multiplica por 2 ocho veces (2⁸=256)\n",
    "# ¿La suma q=p+2 no se cuenta?\n"
   ]
  },
  {
   "cell_type": "code",
   "execution_count": 23,
   "metadata": {},
   "outputs": [
    {
     "name": "stdout",
     "output_type": "stream",
     "text": [
      "True\n",
      "True\n",
      "False\n"
     ]
    }
   ],
   "source": [
    "# Recordando que se puede detener el almacenamiento del historial:\n",
    "print(p.requires_grad)\n",
    "print((x**2).requires_grad)\n",
    "\n",
    "with torch.no_grad():\n",
    "    print((x**2).requires_grad)\n"
   ]
  },
  {
   "cell_type": "code",
   "execution_count": 24,
   "metadata": {},
   "outputs": [
    {
     "name": "stdout",
     "output_type": "stream",
     "text": [
      "True\n",
      "True\n",
      "False\n"
     ]
    }
   ],
   "source": [
    "# Que es distinto a\n",
    "print(p.requires_grad)\n",
    "print((p**2).requires_grad)\n",
    "p.requires_grad_(False)\n",
    "print((p**2).requires_grad)\n",
    "\n",
    "# A la primera vez que se corre, la salida es:\n",
    "# True\n",
    "# True\n",
    "# False\n",
    "\n",
    "# A la segunda vez que se corre, la salida es:\n",
    "# False\n",
    "# False\n",
    "# False"
   ]
  },
  {
   "cell_type": "code",
   "execution_count": 25,
   "metadata": {},
   "outputs": [
    {
     "name": "stdout",
     "output_type": "stream",
     "text": [
      "True\n",
      "False\n",
      "tensor(True)\n"
     ]
    }
   ],
   "source": [
    "# También se puede generar otro tensor con el mismo contenido pero sin historial:\n",
    "p.requires_grad_(True)\n",
    "print(p.requires_grad)\n",
    "q=p.detach()\n",
    "print(q.requires_grad)\n",
    "print(p.eq(q).all()) #No se explica qué hace .eq() pero lo que entendí es que evalua igualdad entre los tensores"
   ]
  },
  {
   "cell_type": "code",
   "execution_count": 26,
   "metadata": {},
   "outputs": [
    {
     "data": {
      "text/plain": [
       "tensor([[True, True, True, True, True],\n",
       "        [True, True, True, True, True]])"
      ]
     },
     "execution_count": 26,
     "metadata": {},
     "output_type": "execute_result"
    }
   ],
   "source": [
    "x=torch.ones(1,5)\n",
    "y=torch.ones(2,5)\n",
    "x.eq(y) \n",
    "\n",
    "# efectivamente, los compara"
   ]
  },
  {
   "cell_type": "markdown",
   "metadata": {},
   "source": [
    "# Redes Neuronales"
   ]
  },
  {
   "cell_type": "code",
   "execution_count": 27,
   "metadata": {},
   "outputs": [
    {
     "name": "stdout",
     "output_type": "stream",
     "text": [
      "Net(\n",
      "  (conv1): Conv2d(1, 6, kernel_size=(3, 3), stride=(1, 1))\n",
      "  (conv2): Conv2d(6, 16, kernel_size=(3, 3), stride=(1, 1))\n",
      "  (fc1): Linear(in_features=576, out_features=120, bias=True)\n",
      "  (fc2): Linear(in_features=120, out_features=84, bias=True)\n",
      "  (fc3): Linear(in_features=84, out_features=10, bias=True)\n",
      ")\n"
     ]
    }
   ],
   "source": [
    "# Las redes neuronales dependen de autograd para definir modelos\n",
    "# y calcular sus derivadas. El paquete es torch.nn\n",
    "# un módulo (nn.Module) contiene capas y un método forward(input)\n",
    "# que recibe entradas y entrega salidas.\n",
    "\n",
    "# Definición de la red:\n",
    "\n",
    "import torch.nn as nn\n",
    "import torch.nn.functional as F # El funcional representa la aplicación de alguna función (por convolución)\n",
    "                                # En la definición de la red se usa para definir la acción de cada capa:\n",
    "                                # e.g. F.max_pool2d(F.relu(self.conv1(x)),(2, 2)) aplica max pooling\n",
    "                                # sobre la salida de la primera capa conv1\n",
    "\n",
    "\n",
    "\n",
    "# 1 canal input, 6 output, convolución 3x3\n",
    "class Net(nn.Module):\n",
    "    def __init__(self):\n",
    "        super(Net, self).__init__() # La función super llama una clase definida anteriormente o superclass \n",
    "                                    # (inheritance). No entiendo la utilidad de esto si se supone que\n",
    "                                    # la estoy definiendo ahora ¿?\n",
    "        self.conv1 = nn.Conv2d(1, 6, 3)\n",
    "        self.conv2 = nn.Conv2d(6, 16, 3)\n",
    "        #Operación afín: y=Wx+b\n",
    "        self.fc1 = nn.Linear(16*6*6,120) #6x6 es la dimensión de la imagen\n",
    "        self.fc2 = nn.Linear(120, 84)\n",
    "        self.fc3 = nn.Linear(84, 10)\n",
    "    \n",
    "    \n",
    "    # forwarde dfine cómo la red obtiene la salida y dada una entrda x\n",
    "    def forward(self, x): # x representa el valor de la entrada, que va cambiando a medida que \n",
    "                          # pasa por las distintas capas\n",
    "            \n",
    "        # Max pooling sobre ventanas de 2x2\n",
    "        x = F.max_pool2d(F.relu(self.conv1(x)),(2, 2)) #aplicada sobre la primera capa\n",
    "        \n",
    "        # Si el pooling es cuadrado, sólo se puede especificar un sólo nro ¿Dónde???\n",
    "        x = F.max_pool2d(F.relu(self.conv2(x)),2)\n",
    "        # La función .view toma un tensor y le cambia la forma\n",
    "        # -1 para que la función infiera el tamaño apropiado y\n",
    "        # num_flat para la dimensión columnas\n",
    "        x = x.view(-1, self.num_flat_features(x))\n",
    "        x = F.relu(self.fc1(x))\n",
    "        x = F.relu(self.fc2(x))\n",
    "        x = self.fc3(x) # aqui no se aplica ReLU porque es la salida\n",
    "        return x\n",
    "    \n",
    "    def num_flat_features(self,x):\n",
    "        size=x.size()[1:] #todas las dimensiones excepto por el batch ¿?\n",
    "        num_features=1\n",
    "        for s in size:\n",
    "            num_features *= s # El asterisco implica un match con clases que contengan s\n",
    "        return num_features\n",
    "net=Net()\n",
    "print(net)\n",
    "\n",
    "# Para PyTorch sólo hay que definir la función forward, la función\n",
    "# backward se define automáticamente utilizando AutroGrad."
   ]
  },
  {
   "cell_type": "code",
   "execution_count": 28,
   "metadata": {},
   "outputs": [
    {
     "name": "stdout",
     "output_type": "stream",
     "text": [
      "10\n",
      "torch.Size([6, 1, 3, 3])\n"
     ]
    }
   ],
   "source": [
    "# Los parámetros ajustables (aprendibles) se llaman con net.parameters():\n",
    "params = list(net.parameters())\n",
    "print(len(params))\n",
    "print(params[0].size()) # pesos de la red convolucional 1"
   ]
  },
  {
   "cell_type": "code",
   "execution_count": 29,
   "metadata": {},
   "outputs": [
    {
     "name": "stdout",
     "output_type": "stream",
     "text": [
      "tensor([[ 0.0293, -0.0688, -0.0464,  0.0562, -0.0129,  0.0322,  0.0108,  0.1670,\n",
      "          0.1228, -0.1243]], grad_fn=<AddmmBackward>)\n"
     ]
    }
   ],
   "source": [
    "# Se prueba una entrada aleatoria:\n",
    "\n",
    "input=torch.randn(1, 1, 32, 32)\n",
    "out=net(input)\n",
    "print(out)"
   ]
  },
  {
   "cell_type": "code",
   "execution_count": 30,
   "metadata": {},
   "outputs": [],
   "source": [
    "# Se iguala los gradientes a cero antes de realizar backpropagation\n",
    "# porque PyTorch acumula los gradientes automáticamente (sirve lara RNN's)\n",
    "# Si no se borran los gradientes, el entrenamiento no apuntará a la direcciónde máximo descenso\n",
    "\n",
    "net.zero_grad()\n",
    "out.backward(torch.randn(1,10))"
   ]
  },
  {
   "cell_type": "code",
   "execution_count": 31,
   "metadata": {},
   "outputs": [],
   "source": [
    "# las red neuronales de PyTorch (torch.nn) sólo soportan mini-batches de muestras y no muestras solas\n",
    "# Por ejemplo, nn.Conv2d toma un tensor de 4D con nMuestras, nCanales, Altura, Ancho\n",
    "# Para insertar una sola muestra, se utiliza input.unsqueeze(0)\n",
    "# ésto agregará dimensiones falsas de mini-batch"
   ]
  },
  {
   "cell_type": "code",
   "execution_count": 32,
   "metadata": {},
   "outputs": [
    {
     "name": "stdout",
     "output_type": "stream",
     "text": [
      "tensor(1.0325, grad_fn=<MseLossBackward>)\n"
     ]
    }
   ],
   "source": [
    "# Función de costos toma el par (output, targets) y computa\n",
    "# un valor que estima qué tan lejos está la salida del objetivo,\n",
    "# un ejemplo es nn.MSELoss\n",
    "\n",
    "output=net(input)\n",
    "target=torch.randn(10)\n",
    "target=target.view(1,-1) #darle la misma forma que el output\n",
    "criterio=nn.MSELoss()\n",
    "\n",
    "loss=criterio(output, target)\n",
    "print(loss)\n",
    "\n",
    "loss.backward(retain_graph=True)\n"
   ]
  },
  {
   "cell_type": "code",
   "execution_count": 33,
   "metadata": {},
   "outputs": [
    {
     "name": "stdout",
     "output_type": "stream",
     "text": [
      "<MseLossBackward object at 0x7efd03672550>\n",
      "<AddmmBackward object at 0x7efd036722b0>\n",
      "<AccumulateGrad object at 0x7efd03672550>\n"
     ]
    }
   ],
   "source": [
    "# Siguiendo a loss en la dirección del backward (.grad_fn)\n",
    "# se debería mostrar un gráfico con las funciones aplicadas\n",
    "# (¿Sobre x?).\n",
    "\n",
    "# Cuando se llama a loss.backward(), el gráfico completo se deriva\n",
    "# con respecto a loss y todos los tensores con historial activado\n",
    "# (requires_grad=True) acumularán el greadiente en forma de tensor (.grad):\n",
    "\n",
    "print(loss.grad_fn) #MSELoss\n",
    "print(loss.grad_fn.next_functions[0][0]) #Lineal\n",
    "print(loss.grad_fn.next_functions[0][0].next_functions[0][0]) #ReLU"
   ]
  },
  {
   "cell_type": "code",
   "execution_count": 34,
   "metadata": {},
   "outputs": [
    {
     "name": "stdout",
     "output_type": "stream",
     "text": [
      "conv.bias.grad antes de backward\n",
      "tensor([0., 0., 0., 0., 0., 0.])\n",
      "conv.bias.grad dspués de backward\n",
      "tensor([-0.0084, -0.0065,  0.0153,  0.0166, -0.0139, -0.0217])\n"
     ]
    }
   ],
   "source": [
    "# Para realizar backpropagation basta con llamar loss.backward().\n",
    "# recordando que hya que limpiar los gradientes acumulados antes:\n",
    "\n",
    "net.zero_grad()\n",
    "\n",
    "print('conv.bias.grad antes de backward')\n",
    "print(net.conv1.bias.grad)\n",
    "\n",
    "loss.backward(retain_graph=True) #sin retain_graph el código tira un RunTime Error,\n",
    "                                # lo que entendí es que, al realizar la operación bacward los valores intermedios\n",
    "                                # no utilizados se borran, haciendo que no se pueda llamra de nuevo la función.\n",
    "\n",
    "print('conv.bias.grad dspués de backward')\n",
    "print(net.conv1.bias.grad)\n",
    "\n"
   ]
  },
  {
   "cell_type": "code",
   "execution_count": 35,
   "metadata": {
    "scrolled": true
   },
   "outputs": [
    {
     "name": "stdout",
     "output_type": "stream",
     "text": [
      "Parameter containing:\n",
      "tensor([[[[-0.1870, -0.2685,  0.1356],\n",
      "          [ 0.1686, -0.2746, -0.0679],\n",
      "          [-0.1357,  0.1179,  0.1026]]],\n",
      "\n",
      "\n",
      "        [[[-0.2475,  0.2222, -0.1858],\n",
      "          [ 0.1759, -0.3002,  0.2882],\n",
      "          [-0.2068, -0.3021, -0.0251]]],\n",
      "\n",
      "\n",
      "        [[[ 0.1609,  0.2117,  0.0511],\n",
      "          [-0.3086, -0.1481, -0.2642],\n",
      "          [ 0.2055, -0.2065, -0.1768]]],\n",
      "\n",
      "\n",
      "        [[[-0.0137, -0.1223, -0.0871],\n",
      "          [-0.3316,  0.0329, -0.1827],\n",
      "          [ 0.0122,  0.2055, -0.2656]]],\n",
      "\n",
      "\n",
      "        [[[-0.2656,  0.3033, -0.2382],\n",
      "          [ 0.1580,  0.2559, -0.0268],\n",
      "          [-0.0139, -0.2986, -0.2997]]],\n",
      "\n",
      "\n",
      "        [[[ 0.2963, -0.0474,  0.0293],\n",
      "          [-0.1556,  0.1249, -0.2414],\n",
      "          [ 0.1829, -0.2206,  0.3272]]]], requires_grad=True)\n",
      "Parameter containing:\n",
      "tensor([-0.1511, -0.0484,  0.0482,  0.1089, -0.1588, -0.1400],\n",
      "       requires_grad=True)\n",
      "Parameter containing:\n",
      "tensor([[[[-9.6982e-03,  8.5749e-02, -5.8577e-02],\n",
      "          [ 2.1390e-02,  5.3224e-02, -8.8522e-02],\n",
      "          [ 8.9447e-02,  1.3398e-01, -1.2909e-01]],\n",
      "\n",
      "         [[ 5.4987e-02, -1.1589e-01,  1.0501e-01],\n",
      "          [-1.1856e-01,  9.2426e-02,  4.4092e-02],\n",
      "          [ 7.5650e-02,  9.2989e-02, -6.4292e-02]],\n",
      "\n",
      "         [[ 1.1891e-01,  1.1619e-01, -5.8467e-02],\n",
      "          [ 8.9155e-02,  1.1757e-01,  1.2940e-01],\n",
      "          [-6.6356e-02, -2.1982e-02, -6.7110e-02]],\n",
      "\n",
      "         [[ 1.1763e-02, -4.6593e-02,  2.0084e-03],\n",
      "          [ 8.1644e-02, -9.0330e-02, -8.4413e-02],\n",
      "          [ 3.3278e-02,  2.0682e-02,  7.9517e-02]],\n",
      "\n",
      "         [[ 7.0286e-02, -1.2520e-01, -7.1831e-02],\n",
      "          [-7.5261e-02,  3.1164e-02, -3.4404e-02],\n",
      "          [-2.0292e-02, -1.1568e-02, -8.3117e-02]],\n",
      "\n",
      "         [[-3.8517e-02,  8.3065e-02, -8.8550e-02],\n",
      "          [ 1.1523e-01,  6.3210e-02,  1.8100e-02],\n",
      "          [-2.4433e-02, -1.1950e-01, -1.3402e-02]]],\n",
      "\n",
      "\n",
      "        [[[-6.6690e-02, -9.4304e-02,  7.6866e-02],\n",
      "          [ 1.3340e-01, -3.2108e-02, -8.1234e-03],\n",
      "          [ 8.9740e-02, -2.2137e-02, -7.1302e-02]],\n",
      "\n",
      "         [[ 1.2052e-01, -4.5494e-02,  8.2049e-02],\n",
      "          [-5.1967e-04, -4.9527e-02, -6.1585e-02],\n",
      "          [ 7.7958e-02,  1.2367e-01, -9.7317e-02]],\n",
      "\n",
      "         [[ 5.3766e-02, -4.8179e-02, -8.1649e-02],\n",
      "          [ 1.3508e-01,  3.2676e-02,  9.3845e-02],\n",
      "          [-2.4115e-02, -8.8122e-02, -7.4205e-02]],\n",
      "\n",
      "         [[-5.1098e-02,  1.0857e-01,  3.1436e-02],\n",
      "          [ 4.2363e-02,  1.1571e-01, -8.9494e-02],\n",
      "          [-2.0481e-02, -1.2026e-01,  2.3644e-02]],\n",
      "\n",
      "         [[-1.3354e-01,  3.5411e-02,  3.2871e-02],\n",
      "          [ 2.7786e-02, -6.5246e-02,  1.1147e-01],\n",
      "          [-9.7048e-02,  7.7869e-02, -4.7879e-02]],\n",
      "\n",
      "         [[-7.4199e-03,  4.9251e-02, -6.4532e-02],\n",
      "          [ 2.0005e-02, -5.9118e-02,  4.7129e-02],\n",
      "          [-1.0189e-01, -1.1852e-01,  3.4145e-02]]],\n",
      "\n",
      "\n",
      "        [[[-1.1394e-01,  1.1459e-01, -9.6474e-03],\n",
      "          [-2.5112e-02, -5.8826e-02, -9.4859e-02],\n",
      "          [-7.4711e-02,  1.3248e-01, -1.0389e-01]],\n",
      "\n",
      "         [[ 6.1744e-02,  4.7451e-02, -1.1511e-01],\n",
      "          [ 1.5018e-02, -1.2473e-02,  5.2598e-02],\n",
      "          [-5.8608e-02, -8.0789e-03, -1.5300e-02]],\n",
      "\n",
      "         [[ 2.5696e-02, -3.4290e-02,  7.3328e-02],\n",
      "          [ 6.9339e-02,  4.7273e-02, -8.0952e-02],\n",
      "          [-5.0967e-02,  1.2183e-01,  7.4001e-02]],\n",
      "\n",
      "         [[-6.4062e-02, -6.6239e-02,  1.1340e-02],\n",
      "          [ 1.0968e-01,  4.5115e-02,  9.7795e-02],\n",
      "          [-2.4190e-02, -1.1814e-01, -5.3193e-02]],\n",
      "\n",
      "         [[-1.1182e-01,  1.0890e-01, -1.0118e-01],\n",
      "          [-1.0626e-01, -6.8990e-02, -7.8179e-02],\n",
      "          [-4.9807e-02, -7.3877e-02, -1.7220e-02]],\n",
      "\n",
      "         [[ 6.8582e-02, -8.7589e-02, -6.6118e-02],\n",
      "          [ 5.0602e-02,  6.8707e-02, -3.6044e-03],\n",
      "          [-1.1799e-01,  8.2011e-02,  2.1634e-02]]],\n",
      "\n",
      "\n",
      "        [[[ 4.9247e-02,  7.7314e-02, -6.6299e-02],\n",
      "          [-2.5909e-02, -1.0904e-01, -4.5072e-02],\n",
      "          [ 8.7543e-02,  9.8622e-02,  7.2463e-02]],\n",
      "\n",
      "         [[-5.4063e-02, -6.4135e-02, -7.9846e-03],\n",
      "          [ 8.5242e-02,  8.7900e-03, -1.1420e-01],\n",
      "          [-1.2715e-01,  6.0634e-02, -1.9722e-02]],\n",
      "\n",
      "         [[-6.3609e-02, -1.0656e-01,  5.8397e-02],\n",
      "          [ 9.7100e-02,  7.7598e-02,  1.6135e-02],\n",
      "          [ 2.2759e-02,  5.5761e-02, -4.0187e-02]],\n",
      "\n",
      "         [[ 7.9590e-02, -1.2881e-01,  1.1221e-01],\n",
      "          [ 4.7132e-02, -1.1979e-01,  6.4210e-02],\n",
      "          [-4.7350e-02, -5.4720e-02,  4.8005e-02]],\n",
      "\n",
      "         [[-1.1498e-01, -6.3802e-02, -2.9367e-03],\n",
      "          [-8.9048e-03, -1.0418e-01,  1.0049e-01],\n",
      "          [-1.3337e-01,  9.8755e-02, -9.1496e-02]],\n",
      "\n",
      "         [[ 1.0464e-02, -4.9971e-02,  1.0378e-03],\n",
      "          [-3.9127e-02,  1.2993e-01,  1.3480e-01],\n",
      "          [-2.0360e-02, -1.2607e-01,  2.8846e-02]]],\n",
      "\n",
      "\n",
      "        [[[ 2.6003e-02,  1.1887e-01, -2.4716e-02],\n",
      "          [ 6.1267e-02, -9.4479e-02, -8.4432e-02],\n",
      "          [ 1.1120e-01,  6.0137e-02,  3.9848e-02]],\n",
      "\n",
      "         [[-1.2029e-01, -1.5867e-02, -1.2363e-01],\n",
      "          [-8.9777e-02, -5.7376e-02,  5.3208e-02],\n",
      "          [-1.1494e-02,  6.2341e-02, -1.1260e-01]],\n",
      "\n",
      "         [[-7.9919e-02, -4.2362e-02,  9.2367e-02],\n",
      "          [-4.3755e-02,  4.8539e-03,  1.1255e-01],\n",
      "          [ 3.1301e-02, -1.1050e-01,  8.8797e-02]],\n",
      "\n",
      "         [[-7.4727e-02,  1.0837e-01,  1.1783e-01],\n",
      "          [-2.6052e-02, -3.1161e-02,  1.1829e-01],\n",
      "          [ 7.2422e-02,  9.0254e-02, -2.7673e-02]],\n",
      "\n",
      "         [[ 1.2112e-02, -1.2827e-01,  3.5127e-03],\n",
      "          [-2.6336e-02,  1.7847e-02, -1.8061e-02],\n",
      "          [ 1.2320e-01, -1.1033e-01, -6.7668e-02]],\n",
      "\n",
      "         [[ 6.2271e-02, -6.7051e-02, -6.0821e-02],\n",
      "          [-7.3323e-02,  5.4613e-02,  1.7472e-02],\n",
      "          [ 5.7182e-02,  1.1811e-01, -5.7684e-02]]],\n",
      "\n",
      "\n",
      "        [[[ 6.7836e-02,  1.0484e-01, -8.6293e-03],\n",
      "          [ 4.9250e-03,  6.1559e-02,  4.9047e-02],\n",
      "          [ 8.8719e-02, -2.9558e-03,  2.7185e-02]],\n",
      "\n",
      "         [[-2.4402e-02, -5.7478e-02,  6.9983e-02],\n",
      "          [-1.1063e-01, -9.7342e-02, -1.3006e-01],\n",
      "          [ 9.7741e-02, -2.0074e-02, -1.0824e-01]],\n",
      "\n",
      "         [[ 1.3830e-02,  1.6894e-02,  5.9793e-02],\n",
      "          [-1.5889e-02, -3.2501e-02, -9.7212e-02],\n",
      "          [-9.8917e-02,  1.0058e-02,  1.0059e-01]],\n",
      "\n",
      "         [[ 8.4139e-03,  3.7850e-02, -4.2109e-02],\n",
      "          [ 6.2385e-02,  9.9021e-02, -4.3047e-02],\n",
      "          [ 7.0183e-02, -7.7593e-02, -1.5043e-02]],\n",
      "\n",
      "         [[-1.2186e-01, -1.8382e-02,  6.9374e-02],\n",
      "          [ 9.0688e-02,  3.8706e-02, -4.6686e-02],\n",
      "          [-3.5268e-02, -3.1976e-02,  3.4153e-02]],\n",
      "\n",
      "         [[ 1.2481e-01,  1.2680e-01,  8.7699e-02],\n",
      "          [-5.9177e-03,  5.7130e-02, -1.2799e-01],\n",
      "          [-6.1610e-02,  7.6634e-02, -7.0918e-02]]],\n",
      "\n",
      "\n",
      "        [[[ 2.9840e-02, -1.2384e-01, -1.3401e-01],\n",
      "          [-8.1035e-02, -1.1309e-01,  1.2550e-01],\n",
      "          [ 1.3227e-01,  3.4508e-02,  5.6860e-02]],\n",
      "\n",
      "         [[-3.4780e-02,  5.1914e-03, -9.6907e-02],\n",
      "          [ 1.1452e-01, -4.0574e-02,  5.6095e-02],\n",
      "          [-1.9100e-02,  3.1304e-02, -7.6865e-02]],\n",
      "\n",
      "         [[-8.6814e-02,  1.0070e-01, -7.0008e-02],\n",
      "          [-1.0504e-01, -2.0717e-02,  1.1701e-01],\n",
      "          [ 1.0204e-01,  1.3426e-01, -7.1635e-02]],\n",
      "\n",
      "         [[-8.8676e-03,  7.3376e-02,  4.4246e-02],\n",
      "          [ 4.1309e-02,  1.1759e-01,  8.3807e-02],\n",
      "          [ 1.1372e-01, -2.2377e-02,  4.6088e-02]],\n",
      "\n",
      "         [[ 5.4947e-02, -2.1587e-03, -9.6941e-02],\n",
      "          [ 1.6007e-02, -9.6417e-02,  2.3222e-02],\n",
      "          [ 1.7280e-02,  8.3557e-02,  8.6018e-02]],\n",
      "\n",
      "         [[-5.1657e-02,  9.6256e-02,  7.6715e-02],\n",
      "          [-4.7091e-02,  1.1438e-01,  7.6391e-02],\n",
      "          [-3.9948e-02, -1.0262e-01, -1.0530e-01]]],\n",
      "\n",
      "\n",
      "        [[[ 8.3129e-02,  8.0451e-02,  1.9476e-02],\n",
      "          [ 1.2772e-01, -4.0491e-02, -1.2825e-01],\n",
      "          [ 9.7966e-02, -1.2421e-01,  8.4901e-02]],\n",
      "\n",
      "         [[-6.0365e-02,  1.0373e-01, -3.7016e-02],\n",
      "          [ 9.7936e-02, -1.8826e-02, -7.9379e-03],\n",
      "          [-8.0971e-02,  2.7038e-02,  1.0157e-01]],\n",
      "\n",
      "         [[ 1.3296e-01, -4.8210e-02,  8.8533e-02],\n",
      "          [-6.5316e-02, -5.8352e-02, -1.0356e-01],\n",
      "          [ 3.0153e-02, -5.6475e-02, -1.1797e-01]],\n",
      "\n",
      "         [[ 6.3031e-02, -1.1845e-01, -5.5956e-02],\n",
      "          [ 8.7651e-02,  7.2076e-03, -7.1917e-02],\n",
      "          [-1.1000e-01, -1.0272e-01, -8.7162e-02]],\n",
      "\n",
      "         [[-2.8097e-02, -9.7395e-02, -9.9607e-02],\n",
      "          [-8.1233e-02, -1.6266e-02,  3.6344e-02],\n",
      "          [ 4.8725e-02,  6.0629e-02, -9.4420e-03]],\n",
      "\n",
      "         [[ 9.7164e-02, -2.3885e-02, -2.8087e-02],\n",
      "          [-1.0472e-01,  1.2239e-01,  7.5808e-03],\n",
      "          [-1.6020e-02, -1.9484e-02,  1.0097e-02]]],\n",
      "\n",
      "\n",
      "        [[[ 1.2470e-01, -6.0197e-02,  8.4578e-02],\n",
      "          [-8.8378e-02,  8.8857e-02,  7.1018e-02],\n",
      "          [-8.7080e-02, -1.3388e-01, -1.5854e-02]],\n",
      "\n",
      "         [[-1.3575e-01, -8.6754e-02,  1.3423e-01],\n",
      "          [ 8.7030e-02, -1.2289e-01,  6.1147e-02],\n",
      "          [ 6.7241e-02,  2.6889e-02,  1.4677e-02]],\n",
      "\n",
      "         [[ 6.7095e-02, -1.1758e-01, -1.3248e-01],\n",
      "          [-3.3018e-03, -2.6997e-02,  1.3197e-01],\n",
      "          [-8.5997e-02,  6.9476e-02, -1.1909e-01]],\n",
      "\n",
      "         [[-1.3591e-01,  6.8255e-02,  1.9700e-02],\n",
      "          [-1.3416e-01,  1.9235e-02, -1.2515e-01],\n",
      "          [-7.0561e-02,  8.9888e-02, -5.4456e-02]],\n",
      "\n",
      "         [[ 1.0730e-01,  8.0887e-02, -4.3410e-03],\n",
      "          [ 1.1927e-01,  5.9479e-03, -9.5277e-02],\n",
      "          [ 3.6440e-02,  4.9931e-03,  3.6083e-03]],\n",
      "\n",
      "         [[ 4.4895e-02,  1.9030e-02, -1.1549e-01],\n",
      "          [ 7.8323e-02,  3.1163e-02,  8.1934e-02],\n",
      "          [ 9.6598e-02,  8.8403e-02,  1.1979e-02]]],\n",
      "\n",
      "\n",
      "        [[[-8.1187e-02, -2.0840e-02,  4.9908e-03],\n",
      "          [-5.3501e-02, -8.2182e-02,  6.7851e-02],\n",
      "          [ 1.2361e-01,  6.9124e-02, -4.5821e-02]],\n",
      "\n",
      "         [[-1.0138e-01, -8.1254e-02, -1.0041e-01],\n",
      "          [-8.1633e-02, -9.4302e-02,  1.3423e-01],\n",
      "          [-9.6358e-02,  1.0054e-01,  6.3408e-02]],\n",
      "\n",
      "         [[ 8.5964e-02, -1.1403e-01, -2.8360e-02],\n",
      "          [-9.5489e-02, -8.3806e-02,  1.3902e-02],\n",
      "          [ 3.9763e-02, -1.1387e-02,  1.3412e-01]],\n",
      "\n",
      "         [[-1.3273e-01, -7.3610e-02,  7.8995e-02],\n",
      "          [-8.9859e-02, -7.7647e-02, -1.8681e-02],\n",
      "          [ 2.0108e-02, -9.1981e-02, -8.6609e-02]],\n",
      "\n",
      "         [[-6.9596e-02,  1.1064e-01, -2.7472e-02],\n",
      "          [-1.6670e-02, -1.2254e-01, -6.9056e-02],\n",
      "          [ 6.6217e-02, -1.2181e-01, -8.7439e-03]],\n",
      "\n",
      "         [[ 3.0577e-05,  3.7335e-03,  9.6544e-02],\n",
      "          [ 8.0561e-02, -7.1049e-02,  1.2011e-01],\n",
      "          [-3.8685e-02, -3.3937e-02, -1.2406e-01]]],\n",
      "\n",
      "\n",
      "        [[[-6.5530e-02, -3.0840e-02, -8.9349e-02],\n",
      "          [-1.1535e-01, -7.7719e-03,  1.1500e-01],\n",
      "          [ 4.5698e-02,  8.3578e-02,  6.5137e-02]],\n",
      "\n",
      "         [[ 1.7705e-02, -1.7223e-02, -9.2766e-02],\n",
      "          [ 1.2738e-02,  1.3093e-01,  9.3311e-02],\n",
      "          [ 8.7783e-05,  1.2795e-01, -7.7559e-02]],\n",
      "\n",
      "         [[-3.7217e-02,  5.4838e-02, -7.6105e-02],\n",
      "          [ 3.2896e-02, -7.5529e-02,  3.4195e-02],\n",
      "          [ 3.5254e-02, -1.1071e-02, -5.7552e-02]],\n",
      "\n",
      "         [[-1.0920e-01,  6.0506e-02,  1.1020e-01],\n",
      "          [ 1.2979e-02, -2.6872e-02, -7.3397e-02],\n",
      "          [ 1.3155e-01,  1.2603e-01,  8.7483e-02]],\n",
      "\n",
      "         [[-1.1971e-01,  5.4245e-02, -2.0134e-03],\n",
      "          [ 9.9067e-02,  1.3613e-01, -2.4335e-02],\n",
      "          [ 1.3419e-01,  5.4300e-02, -1.1850e-01]],\n",
      "\n",
      "         [[-5.6546e-02, -1.0806e-01,  3.4254e-02],\n",
      "          [ 5.5146e-02, -9.2472e-02,  2.4973e-02],\n",
      "          [-2.3201e-03, -2.8487e-02, -9.2774e-02]]],\n",
      "\n",
      "\n",
      "        [[[-1.2324e-01,  1.2226e-02, -2.0633e-02],\n",
      "          [-9.2015e-02, -1.2738e-01, -1.2137e-01],\n",
      "          [ 3.4817e-02, -1.1322e-01, -9.1506e-02]],\n",
      "\n",
      "         [[-1.1591e-01,  9.8808e-02, -6.5512e-03],\n",
      "          [ 2.2545e-03, -1.2349e-01, -5.4124e-02],\n",
      "          [ 8.7752e-02,  6.6656e-02, -1.1928e-01]],\n",
      "\n",
      "         [[-7.4484e-02,  9.8884e-02, -9.9670e-02],\n",
      "          [-5.9546e-02,  5.1004e-02,  5.1335e-02],\n",
      "          [ 1.6539e-02, -6.3755e-02, -1.3350e-01]],\n",
      "\n",
      "         [[ 6.0331e-02, -1.2801e-01, -1.0172e-01],\n",
      "          [ 9.8607e-02, -1.2908e-01,  1.1282e-01],\n",
      "          [ 2.5167e-02,  1.0909e-01,  6.7481e-02]],\n",
      "\n",
      "         [[ 4.7324e-02,  8.9718e-02,  1.3350e-01],\n",
      "          [ 1.0792e-01,  1.2563e-01, -9.6592e-02],\n",
      "          [-6.6324e-02, -1.1389e-01,  1.3156e-01]],\n",
      "\n",
      "         [[ 5.9257e-02, -5.7992e-02,  6.1614e-02],\n",
      "          [ 1.1143e-01, -3.4348e-02,  9.4394e-02],\n",
      "          [ 1.2187e-01, -1.3021e-01, -2.9188e-02]]],\n",
      "\n",
      "\n",
      "        [[[-1.2951e-01, -1.2714e-01, -6.5477e-02],\n",
      "          [ 1.1780e-01, -4.9506e-02, -5.1746e-02],\n",
      "          [ 2.2927e-02,  1.0029e-01, -1.1036e-01]],\n",
      "\n",
      "         [[ 8.4716e-02, -8.2367e-03, -2.2915e-02],\n",
      "          [-1.7675e-03, -1.3164e-01,  1.1972e-02],\n",
      "          [ 5.8045e-02,  8.5726e-02, -7.2348e-02]],\n",
      "\n",
      "         [[ 8.9633e-02, -2.2167e-02,  1.1937e-01],\n",
      "          [-7.0804e-03,  2.4362e-02, -5.9186e-02],\n",
      "          [ 5.2458e-02,  8.3464e-03, -3.6352e-02]],\n",
      "\n",
      "         [[ 8.5200e-02,  7.8400e-02,  9.9615e-02],\n",
      "          [ 1.1072e-01, -9.2420e-02, -1.0770e-01],\n",
      "          [-2.0364e-02,  9.8708e-02,  1.1626e-01]],\n",
      "\n",
      "         [[ 1.1860e-01, -7.1257e-03, -6.3316e-02],\n",
      "          [ 9.6631e-02,  4.1992e-02, -7.4008e-03],\n",
      "          [ 4.6835e-02,  1.1995e-01,  2.1313e-02]],\n",
      "\n",
      "         [[ 1.1773e-01,  6.7634e-02,  1.2788e-01],\n",
      "          [-1.2288e-01, -1.2647e-02,  1.2649e-01],\n",
      "          [ 9.1609e-03,  1.9507e-02,  2.1977e-02]]],\n",
      "\n",
      "\n",
      "        [[[ 2.4568e-03,  2.5014e-02,  5.9571e-02],\n",
      "          [-2.7053e-02, -3.2990e-02,  4.0306e-02],\n",
      "          [-9.2621e-02, -1.2657e-01, -1.2387e-02]],\n",
      "\n",
      "         [[-5.4981e-02,  3.5277e-02, -7.2588e-02],\n",
      "          [-6.6563e-02,  5.9637e-02, -1.0371e-01],\n",
      "          [-7.1928e-02, -1.6629e-02, -1.0792e-02]],\n",
      "\n",
      "         [[ 2.9978e-02,  1.2570e-01, -9.8768e-02],\n",
      "          [-6.1567e-02,  1.0072e-01, -1.1436e-01],\n",
      "          [ 9.6799e-02,  1.1799e-01, -1.2869e-01]],\n",
      "\n",
      "         [[-2.7207e-02, -1.6962e-02, -1.3458e-02],\n",
      "          [-5.8416e-02,  3.8812e-03, -9.8047e-02],\n",
      "          [ 8.7185e-02, -7.8070e-02, -1.1375e-01]],\n",
      "\n",
      "         [[-3.6310e-02, -1.2370e-01, -6.7636e-02],\n",
      "          [ 2.6988e-02,  1.0607e-01,  9.9178e-03],\n",
      "          [ 7.9977e-02, -1.4633e-02,  8.9219e-02]],\n",
      "\n",
      "         [[-6.1749e-02,  8.8148e-02,  2.5626e-02],\n",
      "          [ 6.9581e-02, -6.8780e-02, -1.3359e-01],\n",
      "          [-4.9695e-02, -1.0753e-01,  4.0038e-02]]],\n",
      "\n",
      "\n",
      "        [[[-8.4485e-02,  8.3879e-02, -1.1384e-01],\n",
      "          [ 1.3568e-01,  9.8930e-02, -6.9877e-02],\n",
      "          [ 1.3394e-02, -6.9531e-02,  9.6284e-02]],\n",
      "\n",
      "         [[ 7.2835e-02, -2.2188e-02, -4.8058e-02],\n",
      "          [ 1.3411e-01,  2.1963e-02,  3.5964e-02],\n",
      "          [ 2.0843e-02, -6.9451e-02, -1.0987e-01]],\n",
      "\n",
      "         [[ 8.1737e-02, -9.7839e-02, -3.4913e-02],\n",
      "          [-1.1109e-01, -9.3766e-03, -1.3963e-02],\n",
      "          [-5.9938e-02, -2.5631e-02, -9.4908e-02]],\n",
      "\n",
      "         [[-1.1221e-01, -5.1774e-02,  4.5116e-02],\n",
      "          [ 1.1588e-01, -1.0016e-01,  9.3214e-04],\n",
      "          [-1.1321e-01,  5.8391e-02,  7.2099e-02]],\n",
      "\n",
      "         [[-1.1451e-01, -1.0738e-03, -7.5969e-02],\n",
      "          [ 1.1449e-01, -1.3465e-01, -5.3279e-02],\n",
      "          [-6.3815e-02, -1.1105e-01, -1.3329e-01]],\n",
      "\n",
      "         [[ 1.0594e-01, -9.1128e-02, -1.1480e-01],\n",
      "          [-6.0789e-02,  8.0292e-02,  1.3279e-01],\n",
      "          [-4.2557e-02, -1.0518e-01,  6.6805e-02]]],\n",
      "\n",
      "\n",
      "        [[[ 9.0153e-02, -1.4453e-02, -4.4213e-02],\n",
      "          [ 4.9567e-02, -7.9004e-02, -1.3207e-01],\n",
      "          [ 1.0607e-01, -3.1057e-02, -6.7975e-02]],\n",
      "\n",
      "         [[-2.1803e-02,  6.8320e-02,  3.2604e-02],\n",
      "          [-9.5843e-02,  1.3230e-01,  8.2926e-03],\n",
      "          [-4.5256e-02, -5.9193e-02, -2.8397e-02]],\n",
      "\n",
      "         [[ 4.7565e-02, -3.5813e-02,  2.2077e-03],\n",
      "          [ 2.6818e-02,  2.5450e-02,  1.3157e-01],\n",
      "          [-1.0549e-01, -9.5170e-02, -1.3184e-01]],\n",
      "\n",
      "         [[-2.4588e-02,  4.8547e-02,  2.6668e-02],\n",
      "          [ 1.1056e-01, -1.2270e-01, -3.4220e-03],\n",
      "          [ 7.6580e-02, -1.0402e-01,  7.1078e-02]],\n",
      "\n",
      "         [[-3.6591e-02, -7.5316e-02,  2.0725e-02],\n",
      "          [-9.3939e-02,  3.9495e-02, -3.2534e-02],\n",
      "          [ 1.1443e-01,  1.8772e-02,  1.4258e-02]],\n",
      "\n",
      "         [[ 1.0946e-01, -5.9352e-02,  1.3111e-01],\n",
      "          [ 5.4910e-03, -2.9157e-03, -9.2440e-03],\n",
      "          [-1.1557e-01,  1.2984e-01,  6.9814e-02]]]], requires_grad=True)\n",
      "Parameter containing:\n",
      "tensor([ 0.0570, -0.0928,  0.1209, -0.0538, -0.1349,  0.0269, -0.0184,  0.0481,\n",
      "         0.0559, -0.1031, -0.0830, -0.0105, -0.0890,  0.0298, -0.0123, -0.0357],\n",
      "       requires_grad=True)\n",
      "Parameter containing:\n",
      "tensor([[-0.0179,  0.0015,  0.0401,  ...,  0.0198,  0.0330, -0.0235],\n",
      "        [ 0.0233,  0.0193,  0.0157,  ...,  0.0203, -0.0363, -0.0030],\n",
      "        [ 0.0340, -0.0141, -0.0375,  ..., -0.0084, -0.0156,  0.0007],\n",
      "        ...,\n",
      "        [-0.0031,  0.0154, -0.0210,  ...,  0.0340,  0.0267, -0.0115],\n",
      "        [-0.0165, -0.0179, -0.0138,  ...,  0.0133,  0.0202,  0.0219],\n",
      "        [ 0.0315, -0.0351,  0.0410,  ...,  0.0073,  0.0404,  0.0085]],\n",
      "       requires_grad=True)\n",
      "Parameter containing:\n",
      "tensor([-0.0252, -0.0034,  0.0194, -0.0138, -0.0170,  0.0177,  0.0062,  0.0272,\n",
      "        -0.0169,  0.0395, -0.0224,  0.0205,  0.0399, -0.0367,  0.0269, -0.0206,\n",
      "         0.0012,  0.0169, -0.0040,  0.0177,  0.0260,  0.0052,  0.0394,  0.0189,\n",
      "         0.0341,  0.0044, -0.0195, -0.0065, -0.0030, -0.0075, -0.0199,  0.0148,\n",
      "         0.0133,  0.0055, -0.0249, -0.0247, -0.0334, -0.0027,  0.0136, -0.0210,\n",
      "        -0.0278,  0.0269, -0.0175, -0.0210,  0.0416,  0.0074,  0.0409,  0.0021,\n",
      "         0.0308, -0.0358,  0.0028, -0.0047, -0.0041, -0.0058, -0.0013, -0.0239,\n",
      "         0.0336, -0.0217, -0.0105, -0.0032, -0.0277, -0.0199, -0.0289,  0.0121,\n",
      "         0.0273, -0.0235,  0.0043, -0.0017,  0.0301,  0.0110,  0.0148, -0.0003,\n",
      "         0.0108,  0.0201,  0.0288,  0.0322,  0.0130,  0.0396,  0.0311,  0.0050,\n",
      "         0.0414,  0.0117,  0.0197, -0.0046,  0.0146, -0.0352,  0.0115, -0.0333,\n",
      "         0.0130, -0.0104,  0.0305, -0.0274, -0.0386, -0.0039,  0.0313,  0.0271,\n",
      "         0.0307, -0.0026,  0.0396, -0.0144, -0.0269,  0.0375, -0.0400, -0.0341,\n",
      "        -0.0044,  0.0348,  0.0218,  0.0022, -0.0257,  0.0333,  0.0343, -0.0253,\n",
      "         0.0286, -0.0301,  0.0053, -0.0048,  0.0274, -0.0381, -0.0211, -0.0005],\n",
      "       requires_grad=True)\n",
      "Parameter containing:\n",
      "tensor([[ 0.0342,  0.0214,  0.0899,  ..., -0.0502,  0.0125, -0.0294],\n",
      "        [ 0.0483, -0.0326,  0.0322,  ...,  0.0080,  0.0570, -0.0013],\n",
      "        [-0.0186,  0.0611, -0.0267,  ...,  0.0061,  0.0050,  0.0825],\n",
      "        ...,\n",
      "        [-0.0242, -0.0029,  0.0713,  ...,  0.0219,  0.0274, -0.0220],\n",
      "        [ 0.0357,  0.0014,  0.0876,  ..., -0.0567,  0.0603, -0.0358],\n",
      "        [ 0.0374,  0.0243, -0.0061,  ...,  0.0676, -0.0878,  0.0785]],\n",
      "       requires_grad=True)\n",
      "Parameter containing:\n",
      "tensor([-0.0747,  0.0664, -0.0297,  0.0605,  0.0066, -0.0297, -0.0712, -0.0408,\n",
      "        -0.0482, -0.0661,  0.0124,  0.0867,  0.0666,  0.0453, -0.0423, -0.0773,\n",
      "         0.0049, -0.0001,  0.0454, -0.0062,  0.0590,  0.0773, -0.0524, -0.0635,\n",
      "         0.0492,  0.0511, -0.0286,  0.0064,  0.0416, -0.0076, -0.0014, -0.0303,\n",
      "         0.0791, -0.0696,  0.0273, -0.0903,  0.0759, -0.0642,  0.0476, -0.0402,\n",
      "         0.0279, -0.0699,  0.0893,  0.0070,  0.0645, -0.0483,  0.0254,  0.0461,\n",
      "        -0.0604, -0.0410,  0.0180,  0.0814, -0.0121,  0.0500, -0.0881,  0.0277,\n",
      "         0.0409, -0.0630,  0.0535,  0.0143, -0.0029, -0.0780, -0.0740,  0.0642,\n",
      "        -0.0236, -0.0593, -0.0844,  0.0103, -0.0670, -0.0203, -0.0081,  0.0094,\n",
      "         0.0373, -0.0015,  0.0836,  0.0232, -0.0818, -0.0749, -0.0025,  0.0883,\n",
      "         0.0204,  0.0595,  0.0419, -0.0844], requires_grad=True)\n",
      "Parameter containing:\n",
      "tensor([[ 0.0130,  0.0085, -0.0622,  0.0021, -0.0357, -0.0368, -0.0518,  0.0026,\n",
      "         -0.0039,  0.0476,  0.0674, -0.1086,  0.0339,  0.0491, -0.0935,  0.0177,\n",
      "          0.0989, -0.0096,  0.0435, -0.0090,  0.0416,  0.0049, -0.1029, -0.0439,\n",
      "         -0.0243,  0.0240, -0.0984, -0.0418, -0.0546,  0.0134, -0.0406,  0.0239,\n",
      "          0.0074,  0.0627, -0.0416,  0.0560,  0.0854, -0.0010,  0.0698,  0.0828,\n",
      "          0.0393,  0.0316,  0.0154, -0.0258, -0.0661,  0.0197,  0.0525,  0.0469,\n",
      "         -0.0765, -0.0937, -0.0345,  0.0351, -0.0757, -0.0098,  0.0177, -0.0870,\n",
      "         -0.0543,  0.0727, -0.0620, -0.0853, -0.0756,  0.0034,  0.0630, -0.0120,\n",
      "          0.0811, -0.0888, -0.0284,  0.0403,  0.0092, -0.0454,  0.0886,  0.0791,\n",
      "         -0.0186,  0.0321, -0.0134,  0.0561,  0.0235, -0.0372,  0.1027, -0.0847,\n",
      "         -0.0497, -0.0295, -0.0640,  0.0149],\n",
      "        [-0.0829, -0.1021, -0.0790,  0.0698,  0.0488, -0.0977,  0.0176,  0.0619,\n",
      "          0.0881,  0.0489, -0.0279,  0.0028, -0.0454, -0.0719,  0.0926,  0.0271,\n",
      "          0.0091,  0.0029,  0.0689,  0.0365, -0.0045,  0.1085,  0.0519,  0.0366,\n",
      "          0.0066,  0.0743,  0.0414,  0.0898, -0.0199, -0.0519,  0.0070,  0.0089,\n",
      "         -0.0397,  0.0282, -0.0037,  0.0423,  0.0328, -0.1083,  0.0978, -0.0928,\n",
      "         -0.0918, -0.0880, -0.1074,  0.0141,  0.0066, -0.0690, -0.0026, -0.0600,\n",
      "         -0.0461,  0.0143,  0.0059, -0.0524, -0.0553,  0.0205,  0.1031, -0.0090,\n",
      "          0.0633,  0.0849,  0.0066,  0.0598,  0.0715, -0.0843, -0.0970, -0.0760,\n",
      "          0.0181, -0.0646,  0.0426,  0.0601, -0.1022, -0.0908, -0.0843,  0.0129,\n",
      "          0.0537, -0.0520, -0.0556, -0.0127, -0.1055, -0.0355, -0.0779, -0.0339,\n",
      "          0.0743,  0.1026, -0.0514, -0.0262],\n",
      "        [ 0.0731, -0.0080,  0.0762,  0.0370,  0.0765, -0.0517,  0.0961,  0.0332,\n",
      "         -0.0017, -0.0266, -0.0165, -0.0337, -0.0703,  0.0686,  0.1029,  0.0204,\n",
      "         -0.0223,  0.0609,  0.0873, -0.0004, -0.0440,  0.0498, -0.0642,  0.0630,\n",
      "         -0.0577,  0.0334,  0.0145,  0.0590, -0.0134,  0.0614, -0.0620,  0.0651,\n",
      "          0.1007,  0.0826, -0.0262,  0.0404,  0.0480, -0.0572, -0.0422, -0.0723,\n",
      "         -0.0359,  0.0950,  0.0741,  0.0498,  0.0314, -0.0388, -0.0035, -0.0242,\n",
      "         -0.0431, -0.0553, -0.0010, -0.0208, -0.0571, -0.0337, -0.0648,  0.0556,\n",
      "         -0.0601, -0.1019, -0.0808,  0.0234,  0.1054,  0.0631,  0.0177,  0.0975,\n",
      "         -0.0328,  0.0130,  0.0347, -0.0215, -0.0268,  0.0353,  0.0182,  0.0800,\n",
      "         -0.0025,  0.0124, -0.0025, -0.0397,  0.0876,  0.1034,  0.0938,  0.0303,\n",
      "          0.0423, -0.0096,  0.0797, -0.0625],\n",
      "        [-0.0868, -0.0636,  0.0189, -0.0931, -0.0311, -0.0028, -0.0645,  0.0068,\n",
      "         -0.0367,  0.0165, -0.0308,  0.1006,  0.0949,  0.0527, -0.0045,  0.0388,\n",
      "          0.0884, -0.0402,  0.0997,  0.0881,  0.0870, -0.0770,  0.0912, -0.0062,\n",
      "          0.0639, -0.0408, -0.0262, -0.0904, -0.0724, -0.0059,  0.0332,  0.0250,\n",
      "         -0.0695, -0.0797,  0.0917,  0.0681,  0.0729, -0.0113,  0.0355, -0.0619,\n",
      "         -0.0523, -0.0766,  0.0680,  0.1048, -0.1050, -0.0339,  0.0147,  0.0387,\n",
      "          0.0301, -0.0537,  0.0055, -0.0190, -0.0288,  0.0952, -0.0516, -0.0798,\n",
      "          0.0232,  0.0874, -0.0055, -0.0498, -0.0927, -0.0561, -0.0540, -0.1011,\n",
      "          0.0857,  0.0109, -0.0270, -0.0266, -0.1025,  0.0649, -0.0946,  0.0009,\n",
      "          0.0872,  0.0516, -0.0723, -0.0751, -0.0670, -0.0223,  0.1046, -0.1020,\n",
      "          0.0337,  0.0418, -0.1033, -0.0767],\n",
      "        [-0.0612, -0.0898,  0.0858,  0.0221,  0.0453, -0.0500,  0.0470, -0.0244,\n",
      "         -0.0694, -0.0938,  0.0529,  0.0741,  0.0207,  0.0795, -0.0230, -0.0875,\n",
      "          0.1029,  0.0396,  0.0966, -0.0410,  0.0825,  0.0854,  0.0584,  0.0058,\n",
      "          0.0426, -0.0311, -0.0453,  0.0167, -0.0642,  0.1066, -0.1038, -0.1086,\n",
      "          0.0538, -0.0244, -0.0981, -0.0988,  0.0060,  0.0237, -0.0420,  0.1082,\n",
      "         -0.1024,  0.0237, -0.0571,  0.0209,  0.0437,  0.0519,  0.1067,  0.0317,\n",
      "          0.0221, -0.0229, -0.0942, -0.1007,  0.0195, -0.0926,  0.0950,  0.0674,\n",
      "          0.0035,  0.0567, -0.0547,  0.1082,  0.0879, -0.0343, -0.0753,  0.0358,\n",
      "          0.0103, -0.0595,  0.0308, -0.0271,  0.0108,  0.0544, -0.1053,  0.0731,\n",
      "         -0.0471,  0.0338,  0.0903,  0.0843, -0.0456, -0.0661,  0.0215,  0.0592,\n",
      "          0.0723,  0.0165,  0.0672, -0.0477],\n",
      "        [-0.0280,  0.0914,  0.0648, -0.0886,  0.0735,  0.0634, -0.0307, -0.0445,\n",
      "          0.0976, -0.0407, -0.1086,  0.0899, -0.0398, -0.0462, -0.0350,  0.0029,\n",
      "          0.0026, -0.0163,  0.0694,  0.0480,  0.0719, -0.0993, -0.1051, -0.0995,\n",
      "          0.0139,  0.0824, -0.0306, -0.0746, -0.0320,  0.0067,  0.0844,  0.0193,\n",
      "         -0.1038,  0.0706,  0.1035,  0.0579, -0.1032, -0.0806, -0.0214,  0.0701,\n",
      "          0.0367, -0.0264,  0.1000,  0.0568, -0.1000,  0.0704,  0.0055,  0.0366,\n",
      "         -0.0881,  0.0687,  0.0621,  0.0523,  0.1049, -0.0336,  0.0836,  0.0071,\n",
      "          0.0365, -0.0168,  0.0681, -0.0424,  0.0654,  0.0827, -0.0487,  0.1050,\n",
      "          0.1012,  0.0560,  0.0263, -0.0703,  0.0837,  0.0508, -0.0326, -0.1088,\n",
      "          0.0799,  0.0086, -0.0098,  0.0560, -0.0065,  0.0664,  0.0738,  0.0410,\n",
      "          0.0624,  0.0068,  0.1045, -0.0112],\n",
      "        [-0.0221,  0.0813, -0.0823, -0.0397, -0.0126,  0.0743, -0.0671, -0.0753,\n",
      "         -0.0116,  0.0513,  0.0259, -0.0968, -0.0204,  0.0666,  0.1051, -0.0752,\n",
      "         -0.0744, -0.0387, -0.0610, -0.0078,  0.0443, -0.0768,  0.0985,  0.0423,\n",
      "          0.0903, -0.0094,  0.0424,  0.0475, -0.0882, -0.0388, -0.0841,  0.0323,\n",
      "         -0.1037, -0.0798, -0.1045,  0.0615, -0.1011, -0.0346, -0.0066,  0.0817,\n",
      "         -0.0988, -0.0987, -0.1061,  0.0136,  0.0271, -0.0339, -0.0780, -0.0060,\n",
      "          0.0427, -0.0334, -0.0430, -0.0397, -0.0575,  0.0049,  0.0605,  0.0932,\n",
      "          0.0348,  0.0614,  0.0523, -0.0859,  0.0719,  0.0076, -0.0232, -0.0311,\n",
      "         -0.0605, -0.0505,  0.0508,  0.0352, -0.0753, -0.1029,  0.0047, -0.0603,\n",
      "         -0.0702,  0.0590,  0.1054, -0.0495, -0.0272,  0.0110, -0.0068, -0.0943,\n",
      "          0.0706,  0.0820,  0.0743,  0.0320],\n",
      "        [-0.0039, -0.0496, -0.0274, -0.0459, -0.1042,  0.0447,  0.0058, -0.0967,\n",
      "          0.0686,  0.0572,  0.0298,  0.0844, -0.0804,  0.0336,  0.0805, -0.0822,\n",
      "          0.0623,  0.0662,  0.0978,  0.1046, -0.0283, -0.0848,  0.0221, -0.0393,\n",
      "         -0.0296, -0.0400,  0.0480, -0.1080, -0.0216, -0.0860, -0.0643,  0.0951,\n",
      "          0.0043, -0.1036, -0.0161, -0.0041, -0.0318, -0.0724, -0.1079, -0.0867,\n",
      "         -0.0911, -0.0912, -0.0485,  0.0402, -0.0625,  0.0431, -0.0434,  0.1001,\n",
      "          0.0405,  0.0650, -0.0158,  0.1065, -0.0920,  0.0641,  0.0892,  0.0080,\n",
      "          0.0436,  0.0559,  0.1087, -0.0881,  0.0920,  0.0919,  0.0447, -0.0367,\n",
      "          0.1010, -0.0072,  0.0563, -0.0232,  0.0108,  0.0423,  0.0090,  0.0862,\n",
      "         -0.0191, -0.0168, -0.0120, -0.0147,  0.0374, -0.0388,  0.0387,  0.0998,\n",
      "         -0.0558, -0.0904, -0.0005, -0.0128],\n",
      "        [ 0.0164, -0.0704,  0.0989,  0.0632,  0.0136,  0.0689, -0.0364,  0.0534,\n",
      "          0.0252, -0.0545, -0.0940,  0.0963,  0.0777,  0.0076, -0.1019, -0.0640,\n",
      "          0.0643, -0.0134,  0.0191,  0.0744,  0.0689, -0.0585,  0.0388, -0.0676,\n",
      "          0.0335, -0.0345, -0.0201,  0.0173,  0.0747,  0.0060, -0.0931, -0.0252,\n",
      "          0.0426,  0.0290, -0.0842, -0.0293, -0.0739, -0.0774, -0.0526,  0.0901,\n",
      "          0.0262, -0.0356,  0.0186, -0.0446, -0.0134,  0.0611,  0.0879, -0.1026,\n",
      "         -0.1016,  0.0834, -0.0240,  0.0136,  0.0783,  0.0542, -0.0325,  0.0472,\n",
      "          0.0094,  0.0815,  0.0788, -0.1014, -0.0715, -0.0534,  0.0163,  0.0283,\n",
      "         -0.0292,  0.0056, -0.0972, -0.1039,  0.0412,  0.0965,  0.0792,  0.0215,\n",
      "         -0.0550,  0.0402,  0.0404,  0.0535,  0.0400,  0.0002,  0.0718,  0.0160,\n",
      "          0.0306, -0.0856,  0.1023,  0.0944],\n",
      "        [ 0.0040,  0.0462, -0.0839,  0.0487,  0.0960, -0.0128, -0.0192, -0.0409,\n",
      "          0.0663, -0.0839,  0.0471, -0.1056, -0.0822, -0.0973,  0.0179,  0.0242,\n",
      "          0.0458, -0.0877, -0.0599,  0.0838,  0.0088,  0.0183, -0.0767,  0.0061,\n",
      "         -0.0709,  0.1006, -0.0561,  0.0868, -0.0191, -0.0904,  0.0671,  0.0729,\n",
      "         -0.0762, -0.0006, -0.0272, -0.0524,  0.0885,  0.0577,  0.0038,  0.0051,\n",
      "         -0.0547, -0.0334, -0.1072, -0.0125,  0.0274, -0.0427,  0.0434, -0.0126,\n",
      "          0.0602,  0.0996, -0.0367,  0.0715, -0.0877, -0.0688, -0.0080, -0.0674,\n",
      "          0.0642, -0.0487,  0.0673,  0.1000, -0.0232,  0.0185,  0.0257,  0.0018,\n",
      "          0.0854,  0.0797, -0.0708,  0.0779, -0.0728,  0.0610,  0.0746,  0.0761,\n",
      "         -0.0102,  0.0212, -0.0859, -0.0836, -0.0201, -0.0679, -0.0998,  0.1019,\n",
      "         -0.0094,  0.0473, -0.0134, -0.0451]], requires_grad=True)\n",
      "Parameter containing:\n",
      "tensor([ 0.0560, -0.0672, -0.1063,  0.0259, -0.0641, -0.0190,  0.0923,  0.0865,\n",
      "         0.0581, -0.1071], requires_grad=True)\n"
     ]
    }
   ],
   "source": [
    "# Actualizar pesos:\n",
    "\n",
    "# La forma más simple de actualización es através del Gradiente Descendiente Estocástico (SGD):\n",
    "\n",
    "#w=w+gradiente*tasa de aprenizaje:\n",
    "\n",
    "learning_rate=0.01\n",
    "for f in net.parameters():\n",
    "    f.data.sub_(f.grad.data*learning_rate)\n",
    "    print(f)"
   ]
  },
  {
   "cell_type": "code",
   "execution_count": 36,
   "metadata": {},
   "outputs": [],
   "source": [
    "# se puede hacer uso de la librería torch.optim para otros métodos:\n",
    "\n",
    "import torch.optim as optim\n",
    "\n",
    "optimizer= optim.SGD(net.parameters(), lr=0.01)\n",
    "\n",
    "#en el loop de entrenamiento:\n",
    "\n",
    "optimizer.zero_grad()\n",
    "output=net(input)\n",
    "loss=criterio(output, target)\n",
    "loss.backward()\n",
    "optimizer.step() #Esta función realiza la actualización"
   ]
  },
  {
   "cell_type": "markdown",
   "metadata": {},
   "source": [
    "# Entrenando un clasificador"
   ]
  },
  {
   "cell_type": "code",
   "execution_count": 37,
   "metadata": {},
   "outputs": [],
   "source": [
    "# primero, para los datos basta usar los paquetes standar de python\n",
    "# que carguen los datos a arreglos numpy y después convertir dichos arreglos en tensores.\n",
    "\n",
    "#imágenes: Pillow, OpenCV\n",
    "#audio: scipy, librosa\n",
    "#texto: NLTK, SpaCy\n",
    "\n",
    "# Además, PyTorch tiene un paquete de visión llamado torchvision que contiene datsets\n",
    "# como Imagenet, CIFAR10, MNIST, entre otros.\n",
    "\n",
    "#Para el ejemplo se trabajará con eldataset CIFAR10, el cual contiene las clases: airplane,\n",
    "#automobile, bird, cat, deer, dog, frog, horse, ship y truck.\n",
    "\n",
    "#Las imágenes son de tamaño 3x32x32: imágenes de tres caanales (RGB) de 32x32.\n",
    "\n",
    "# Los pasos son:\n",
    "# 1 Cargar y normalizar los datests de test y train de CIFAR10 con torchvision\n",
    "# 2 Definir una CNN\n",
    "# 3 Definir una función de costos\n",
    "# 4 Entrenar la red\n",
    "# 5 Testear la red"
   ]
  },
  {
   "cell_type": "code",
   "execution_count": 38,
   "metadata": {},
   "outputs": [],
   "source": [
    "#1 Cargar y normalizar CIFAR10:\n",
    "\n",
    "import torch\n",
    "import torchvision\n",
    "import torchvision.transforms as transforms"
   ]
  },
  {
   "cell_type": "code",
   "execution_count": 39,
   "metadata": {},
   "outputs": [
    {
     "name": "stdout",
     "output_type": "stream",
     "text": [
      "Files already downloaded and verified\n",
      "Files already downloaded and verified\n"
     ]
    }
   ],
   "source": [
    "transform = transforms.Compose( # lo único que hace esto es definir varias transformaciones de una.\n",
    "    [transforms.ToTensor(),\n",
    "     transforms.Normalize((0.5, 0.5, 0.5), (0.5, 0.5, 0.5))]) #image = (image - mean) / std The parameters mean, std are passed as 0.5, 0.5 in your case. This will normalize the image in the range [-1,1]. For example, the minimum value 0 will be converted to (0-0.5)/0.5=-1, the maximum value of 1 will be converted\n",
    "\n",
    "trainset=torchvision.datasets.CIFAR10(root='./data',train=True, download=True,transform=transform) #Descargar entrnamiento de CIFAR10\n",
    "\n",
    "\n",
    "trainloader=torch.utils.data.DataLoader(trainset, batch_size=4, shuffle=True, num_workers=2) #¿QUE HACE ESTO?\n",
    "\n",
    "testset=torchvision.datasets.CIFAR10(root='./data',train=False,download=True, transform=transform)\n",
    "\n",
    "testloader=torch.utils.data.DataLoader(testset,batch_size=4,shuffle=False,num_workers=2)\n",
    "\n",
    "classes = ('plane', 'car', 'bird', 'cat', 'deer', 'dog', 'frog', 'horse', 'ship', 'truck')"
   ]
  },
  {
   "cell_type": "code",
   "execution_count": 40,
   "metadata": {},
   "outputs": [
    {
     "data": {
      "image/png": "[encoded data removed]",
      "text/plain": [
       "<Figure size 432x288 with 1 Axes>"
      ]
     },
     "metadata": {
      "needs_background": "light"
     },
     "output_type": "display_data"
    },
    {
     "name": "stdout",
     "output_type": "stream",
     "text": [
      "horsetruck  dog bird\n"
     ]
    }
   ],
   "source": [
    "# Revisemos las imagenes de entrenamiento:\n",
    "\n",
    "import matplotlib.pyplot as plt\n",
    "import numpy as np\n",
    "\n",
    "def imshow(img):\n",
    "    img=img/2+0.5 #Desnormalizar\n",
    "    npimg=img.numpy()\n",
    "    plt.imshow(np.transpose(npimg, (1, 2, 0)))\n",
    "    plt.show()\n",
    "\n",
    "#obtener imágen aleatoria:\n",
    "dataiter=iter(trainloader) #Qué es iter??\n",
    "images, labels= dataiter.next() # y qué es la función.next()?\n",
    "\n",
    "#mostrar img\n",
    "\n",
    "imshow(torchvision.utils.make_grid(images))\n",
    "\n",
    "#mostrar etiquetas\n",
    "\n",
    "print(''.join('%5s' % classes[labels[j]] for j in range(4))) # todo esto aquí es raro: qué hace %5?, %, join???"
   ]
  },
  {
   "cell_type": "code",
   "execution_count": 41,
   "metadata": {},
   "outputs": [],
   "source": [
    "# Definimos una red convolucional parecida al ejemplo, pero con la diferencia de que ahora\n",
    "# recibe imágenes de 3 canales en veez de 1:\n",
    "\n",
    "import torch.nn as nn\n",
    "import torch.nn.functional as F\n",
    "\n",
    "class ConvNet(nn.Module):\n",
    "    def __init__(self):\n",
    "        super(ConvNet, self).__init__() #No me queda claro cómo se definen las entradas de la red\n",
    "        #3 canales de input, 6 de output y convulición de 5x5\n",
    "        \n",
    "\n",
    "        self.conv1 =nn.Conv2d(3,6,5)\n",
    "        self.pool = nn.MaxPool2d(2, 2)#\n",
    "        self.conv2 = nn.Conv2d(4, 16, 5)\n",
    "        self.fc1 = nn.Linear(16 * 5 * 5, 120)\n",
    "        self.fc2 = nn.Linear(120, 84)\n",
    "        self.fc3 = nn.Linear(84, 10)\n",
    "\n",
    "    def forward(self, x):\n",
    "        \n",
    "        #----- esta definición genera el error siguiente:\n",
    "        #RuntimeError: Given groups=1, weight of size 6 3 5 5, expected input[4, 1, 28, 28] \n",
    "        #to have 3 channels, but got 1 channels instead\n",
    "        \n",
    "        #con esto:\n",
    "        #torch.nn.Conv2d(in_channels, out_channels, kernel_size, stride=1, \n",
    "        #padding=0, dilation=1, groups=1, bias=True, padding_mode='zeros')\n",
    "        \n",
    "        \n",
    "        x = self.pool(F.relu(self.conv1(x)))\n",
    "        x = self.pool(F.relu(self.conv2(x)))\n",
    "        x = x.view(-1, 16 * 5 * 5)\n",
    "        x = F.relu(self.fc1(x))\n",
    "        x = F.relu(self.fc2(x))\n",
    "        x = self.fc3(x)\n",
    "        return x\n",
    "    \n",
    "    \n",
    "    def forward(self, x):\n",
    "        x = self.pool(F.relu(self.conv1(x)))\n",
    "        x = self.pool(F.relu(self.conv2(x)))\n",
    "        x = x.view(-1, 16 * 5 * 5)\n",
    "        x = F.relu(self.fc1(x))\n",
    "        x = F.relu(self.fc2(x))\n",
    "        x = self.fc3(x)\n",
    "        return x\n",
    "\n",
    "\n",
    "net = ConvNet()\n",
    "\n"
   ]
  },
  {
   "cell_type": "code",
   "execution_count": 42,
   "metadata": {},
   "outputs": [],
   "source": [
    "# Definimos una función de costos:\n",
    "\n",
    "import torch.optim as optim\n",
    "\n",
    "criterion=nn.MSELoss()\n",
    "#optimizer= optim.SGD(net.parameters(), lr=0.01)\n",
    "\n",
    "#criterion=nn.CrossEntropyLoss()\n",
    "#optimizer=optim.SGD(net.parameters(), lr=0.001, momentum=0.9)"
   ]
  },
  {
   "cell_type": "code",
   "execution_count": null,
   "metadata": {},
   "outputs": [],
   "source": [
    "# Entrenamos la red:\n",
    "\n",
    "for epoc in range(2):\n",
    "    # 2 loops?\n",
    "    running_loss=0.0\n",
    "    for i, data in enumerate(trainloader, 0):\n",
    "        #los datos son una lista de [inputs, labels]\n",
    "        inputs, labes=data\n",
    "        \n",
    "        #recordar anular gradientes acumulados:\n",
    "        optimizer.zero_grad()\n",
    "        \n",
    "        outputs=net(inputs) #forward\n",
    "        loss=criterion(outputs, labels) #costos\n",
    "        loss.backward() #backprop (gradientes) y\n",
    "        optimizer.step()  #optimización\n",
    "        \n",
    "        #mostrar estadísticas:\n",
    "        running_loss+=loss.item() #no pensé que iba a usar esta función jaja\n",
    "        if i % 2000== 1999: #mostrar minibatches\n",
    "            print('[d%, %5d] loss: %.3f' % (epoch +1, i+1, running_loss/2000))\n",
    "            running_loss=0.0\n",
    "print('Entrenamiento finalizado')\n",
    "    \n",
    "    \n",
    "    # Al aplicar esta celda ocurre un error con la evaluación forward de los inputs\n",
    "    # en que al parecer no calzan con la entrada de la red.\n",
    "    # Probé copiando directamente el código de la página y, si bien ya no da el error de los inputs,\n",
    "    # el kernel muere y se reinicia, busqué bastante en los foros y no hay explicación más que\n",
    "    # falta de compatibilidad entre pytorch y"
   ]
  },
  {
   "cell_type": "code",
   "execution_count": 43,
   "metadata": {},
   "outputs": [],
   "source": [
    "# Guardar modelo\n",
    "PATH = './cifar_net.pth'\n",
    "torch.save(net.state_dict(), PATH)"
   ]
  },
  {
   "cell_type": "code",
   "execution_count": 44,
   "metadata": {
    "scrolled": true
   },
   "outputs": [
    {
     "data": {
      "image/png": "[encoded data removed]",
      "text/plain": [
       "<Figure size 432x288 with 1 Axes>"
      ]
     },
     "metadata": {
      "needs_background": "light"
     },
     "output_type": "display_data"
    },
    {
     "name": "stdout",
     "output_type": "stream",
     "text": [
      "GroundTruth:    cat  ship  ship plane\n"
     ]
    }
   ],
   "source": [
    "# Probamos la red con datos de test:\n",
    "\n",
    "dataiter = iter(testloader)\n",
    "images, labels = dataiter.next()\n",
    "\n",
    "# mostrar imagenes\n",
    "imshow(torchvision.utils.make_grid(images))\n",
    "print('GroundTruth: ', ' '.join('%5s' % classes[labels[j]] for j in range(4)))\n",
    "\n"
   ]
  },
  {
   "cell_type": "code",
   "execution_count": 46,
   "metadata": {},
   "outputs": [],
   "source": [
    "# Para volver a cargar el modelo:\n",
    "net = Net()\n",
    "net.load_state_dict(torch.load(PATH))\n"
   ]
  },
  {
   "cell_type": "code",
   "execution_count": 48,
   "metadata": {},
   "outputs": [],
   "source": [
    "#outputs = net(images)"
   ]
  },
  {
   "cell_type": "code",
   "execution_count": null,
   "metadata": {},
   "outputs": [],
   "source": [
    "# Hay un problema de compatibilidad con mi procesador (AMD)\n",
    "# que hace que el kernel se muera durante el entrenamiento\n",
    "# Revisaré los tutoriales de Pyro a ver si tengo el mismo problema\n",
    "# en tal caso me vuelvo a Tensorflow y Keras"
   ]
  },
  {
   "cell_type": "code",
   "execution_count": null,
   "metadata": {},
   "outputs": [],
   "source": []
  },
  {
   "cell_type": "code",
   "execution_count": null,
   "metadata": {},
   "outputs": [],
   "source": []
  },
  {
   "cell_type": "code",
   "execution_count": null,
   "metadata": {},
   "outputs": [],
   "source": []
  },
  {
   "cell_type": "code",
   "execution_count": null,
   "metadata": {},
   "outputs": [],
   "source": []
  },
  {
   "cell_type": "code",
   "execution_count": null,
   "metadata": {},
   "outputs": [],
   "source": []
  },
  {
   "cell_type": "code",
   "execution_count": null,
   "metadata": {},
   "outputs": [],
   "source": []
  }
 ],
 "metadata": {
  "kernelspec": {
   "display_name": "Python 2",
   "language": "python",
   "name": "python2"
  },
  "language_info": {
   "codemirror_mode": {
    "name": "ipython",
    "version": 3
   },
   "file_extension": ".py",
   "mimetype": "text/x-python",
   "name": "python",
   "nbconvert_exporter": "python",
   "pygments_lexer": "ipython3",
   "version": "3.6.10"
  }
 },
 "nbformat": 4,
 "nbformat_minor": 4
}
